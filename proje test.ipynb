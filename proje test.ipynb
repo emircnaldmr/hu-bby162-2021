{
  "nbformat": 4,
  "nbformat_minor": 0,
  "metadata": {
    "colab": {
      "name": "Untitled1.ipynb",
      "provenance": [],
      "collapsed_sections": [],
      "mount_file_id": "1VX9Q_hCuDHtAtUDfgsNsUtIzf7xtJ0_m",
      "authorship_tag": "ABX9TyPQnzjr5aoWwF+UrUsfOjC7",
      "include_colab_link": true
    },
    "kernelspec": {
      "name": "python3",
      "display_name": "Python 3"
    },
    "language_info": {
      "name": "python"
    }
  },
  "cells": [
    {
      "cell_type": "markdown",
      "metadata": {
        "id": "view-in-github",
        "colab_type": "text"
      },
      "source": [
        "<a href=\"https://colab.research.google.com/github/emircnaldmr/hu-bby162-2021/blob/main/proje%20test.ipynb\" target=\"_parent\"><img src=\"https://colab.research.google.com/assets/colab-badge.svg\" alt=\"Open In Colab\"/></a>"
      ]
    },
    {
      "cell_type": "code",
      "metadata": {
        "colab": {
          "base_uri": "https://localhost:8080/"
        },
        "id": "R5GRhQq0uNZi",
        "outputId": "0af56cf5-59a4-4136-acef-925cfcea70ec"
      },
      "source": [
        "#Kütüphane Otomasyonu\n",
        "#Veri Tababı:  /content/drive/MyDrive/Colab Notebooks/final.txt\n",
        "\n",
        "dosya = \"/content/drive/MyDrive/Colab Notebooks/final.txt\"\n",
        "print(\"Kütüphane Kataloglama Sistemine Hoşgeldiniz\")\n",
        "\n",
        "islemSecme = [\"listele\", \"ekle\", \"bitir\"]\n",
        "while islemSecme:\n",
        "  girilen_islem = input(\"Katalogdaki eser listesini görüntülemek için 'listele'\\n\"\n",
        "      \"Yeni eser kaydı eklemek için 'ekle' görevini yazınız.\\n\"     \n",
        "      \"Sistemden çıkmak için 'bitir' görevini yazınız.\\n\"\n",
        "      \"Yapmak istediğiniz işlem için ilgili görevi yazınız: \")\n",
        "  \n",
        "  if girilen_islem == islemSecme[0]:\n",
        "    print(\"Kütüphane kataloğuna hoş geldiniz..\")\n",
        "    eserListele()\n",
        "  elif girilen_islem == islemSecme[1]:\n",
        "    print(\"Kataloğa yeni bir kayıt giriniz.\")\n",
        "    eserKaydet()\n",
        "  elif girilen_islem == islemSecme[2]:\n",
        "    break\n",
        "def eserListele():\n",
        "  f = open(dosya, 'r')\n",
        "  for line in f.readlines():\n",
        "    print(line)\n",
        "  f.close()\n",
        "\n",
        "def eserKaydet():\n",
        "  eserAdi = input(\"Eser Adını Giriniz.\")\n",
        "  eserYazar = input(\"Eserin Yazarını Giriniz.\")\n",
        "  eserYayınevi = input(\"Eserin Yayınevi Bilgisini Giriniz.\")\n",
        "  eserBasımtarihi = input(\"Eserin Basım Tarihini Giriniz (Yıl Olarak)\")\n",
        "  eserIsbn = input(\"Eserin ISBN Bilgilerini Giriniz.\")\n",
        "  f = open(dosya, 'w' )\n",
        "  f.write(eserAdi + \" , \" + eserYazar + \" , \" + eserYayınevi + \" , \" + eserBasımtarihi + \" , \" + eserIsbn + '\\n')\n",
        "  print(\"Kaydı Başarıyla Eklediniz\")\n",
        "  f.close()\n"
      ],
      "execution_count": null,
      "outputs": [
        {
          "output_type": "stream",
          "text": [
            "Kütüphane Kataloglama Sistemine Hoşgeldiniz\n",
            "Katalogdaki eser listesini görüntülemek için 'listele'\n",
            "Yeni eser kaydı eklemek için 'ekle' görevini yazınız.\n",
            "Sistemden çıkmak için 'bitir' görevini yazınız.\n",
            "Yapmak istediğiniz işlem için ilgili görevi yazınız: listele\n",
            "Kütüphane kataloğuna hoş geldiniz..\n",
            "asdasd , dasd , asdad, , asdasd , asda\n",
            "\n"
          ],
          "name": "stdout"
        }
      ]
    }
  ]
}