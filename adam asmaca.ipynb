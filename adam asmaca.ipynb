{
  "nbformat": 4,
  "nbformat_minor": 0,
  "metadata": {
    "colab": {
      "name": "Untitled0.ipynb",
      "provenance": [],
      "authorship_tag": "ABX9TyMflvMNTCf34vCmSivZMDpF",
      "include_colab_link": true
    },
    "kernelspec": {
      "name": "python3",
      "display_name": "Python 3"
    },
    "language_info": {
      "name": "python"
    }
  },
  "cells": [
    {
      "cell_type": "markdown",
      "metadata": {
        "id": "view-in-github",
        "colab_type": "text"
      },
      "source": [
        "<a href=\"https://colab.research.google.com/github/emircnaldmr/hu-bby162-2021/blob/main/adam%20asmaca.ipynb\" target=\"_parent\"><img src=\"https://colab.research.google.com/assets/colab-badge.svg\" alt=\"Open In Colab\"/></a>"
      ]
    },
    {
      "cell_type": "code",
      "metadata": {
        "colab": {
          "base_uri": "https://localhost:8080/"
        },
        "id": "EUIvvPvgt9cF",
        "outputId": "52cb0ad1-72a3-4698-8407-4aa712585e26"
      },
      "source": [
        "print(\"Adam asmacaya hoş geldiniz\")\n",
        "def adamAsmaca(): \n",
        "  adamCan = 3\n",
        "  kelimeler = [\"bisiklet\", \"triatlon\", \"yüzme\", \"koşu\"]\n",
        "  secilenKelime = choice(kelimeler)\n",
        "  print(secilenKelime)\n",
        "  dizilenKelime = []\n",
        "  for diz in secilenKelime:\n",
        "      dizilenKelime.append(\"_\")\n",
        "  print(dizilenKelime)\n",
        "\n",
        "  while adamCan > 0:\n",
        "      girilenHarf = input(\"Bir harf giriniz: \")\n",
        "      canKontrol = girilenHarf in secilenKelime\n",
        "      if canKontrol == False:\n",
        "          adamCan-=1\n",
        "      i = 0\n",
        "      for kontrol in secilenKelime:\n",
        "          if secilenKelime[i] == girilenHarf:\n",
        "              dizilenKelime[i] = girilenHarf\n",
        "          i+=1\n",
        "      kelimeGuncel = \"\"\n",
        "      for kelimeG in dizilenKelime:\n",
        "        kelimeGuncel += kelimeG\n",
        "      if secilenKelime == kelimeGuncel:\n",
        "        print(\"Tebrikler bildiniz\")\n",
        "        break\n",
        "\n",
        "      print(dizilenKelime)\n",
        "      print(\"Kalan can: \"+ str(adamCan))\n",
        "      print(\"KAYBETTİNİZ\")\n",
        "def menu():\n",
        "  from random import choice\n",
        "print(\":::: Adam asmaca oyununa hoşgeldiniz ::::\")\n",
        "oyunKontrol = input(\"Oyuna başlamak istiyor musunuz 0) hayır 1) evet 0/1: \")\n",
        "if oyunKontrol == \"1\":\n",
        "  adamAsmaca()\n",
        "else :\n",
        "  print(\"Teşekkürler\")\n"
      ],
      "execution_count": 21,
      "outputs": [
        {
          "output_type": "stream",
          "text": [
            "Adam asmacaya hoş geldiniz\n",
            ":::: Adam asmaca oyununa hoşgeldiniz ::::\n",
            "Oyuna başlamak istiyor musunuz 0) hayır 1) evet 0/1: 1\n",
            "bisiklet\n",
            "['_', '_', '_', '_', '_', '_', '_', '_']\n",
            "Bir harf giriniz: b\n",
            "['b', '_', '_', '_', '_', '_', '_', '_']\n",
            "Kalan can: 3\n",
            "KAYBETTİNİZü\n",
            "Bir harf giriniz: bisiklet\n",
            "['b', '_', '_', '_', '_', '_', '_', '_']\n",
            "Kalan can: 3\n",
            "KAYBETTİNİZü\n",
            "Bir harf giriniz: i\n",
            "['b', 'i', '_', 'i', '_', '_', '_', '_']\n",
            "Kalan can: 3\n",
            "KAYBETTİNİZü\n",
            "Bir harf giriniz: s\n",
            "['b', 'i', 's', 'i', '_', '_', '_', '_']\n",
            "Kalan can: 3\n",
            "KAYBETTİNİZü\n",
            "Bir harf giriniz: i\n",
            "['b', 'i', 's', 'i', '_', '_', '_', '_']\n",
            "Kalan can: 3\n",
            "KAYBETTİNİZü\n",
            "Bir harf giriniz: j\n",
            "['b', 'i', 's', 'i', '_', '_', '_', '_']\n",
            "Kalan can: 2\n",
            "KAYBETTİNİZü\n",
            "Bir harf giriniz: k\n",
            "['b', 'i', 's', 'i', 'k', '_', '_', '_']\n",
            "Kalan can: 2\n",
            "KAYBETTİNİZü\n",
            "Bir harf giriniz: l\n",
            "['b', 'i', 's', 'i', 'k', 'l', '_', '_']\n",
            "Kalan can: 2\n",
            "KAYBETTİNİZü\n",
            "Bir harf giriniz: e\n",
            "['b', 'i', 's', 'i', 'k', 'l', 'e', '_']\n",
            "Kalan can: 2\n",
            "KAYBETTİNİZü\n",
            "Bir harf giriniz: t\n",
            "Tebrikler bildiniz\n"
          ],
          "name": "stdout"
        }
      ]
    }
  ]
}