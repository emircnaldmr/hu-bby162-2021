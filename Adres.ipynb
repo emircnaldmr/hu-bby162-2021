{
  "nbformat": 4,
  "nbformat_minor": 0,
  "metadata": {
    "colab": {
      "name": "Adres.ipynb",
      "provenance": [],
      "mount_file_id": "1P-9g2R8e9kgy6HduukK0fEQ5JmEq3zVP",
      "authorship_tag": "ABX9TyP8kvRZaK9jff2jIbsdEl2b",
      "include_colab_link": true
    },
    "kernelspec": {
      "name": "python3",
      "display_name": "Python 3"
    },
    "language_info": {
      "name": "python"
    }
  },
  "cells": [
    {
      "cell_type": "markdown",
      "metadata": {
        "id": "view-in-github",
        "colab_type": "text"
      },
      "source": [
        "<a href=\"https://colab.research.google.com/github/emircnaldmr/hu-bby162-2021/blob/main/Adres.ipynb\" target=\"_parent\"><img src=\"https://colab.research.google.com/assets/colab-badge.svg\" alt=\"Open In Colab\"/></a>"
      ]
    },
    {
      "cell_type": "code",
      "metadata": {
        "colab": {
          "base_uri": "https://localhost:8080/"
        },
        "id": "F-qWpKvpahmC",
        "outputId": "29077f1b-b41b-47a7-cb28-e0262121b5ec"
      },
      "source": [
        "dosya = \"/content/drive/MyDrive/Colab Notebooks/Adres.txt\"\n",
        "\n",
        "adSoyad = input(\"Adınızı Soyadınızı Giriniz\")\n",
        "eposta = input(\"E-posta adresinizi giriniz\")\n",
        "\n",
        "f = open(dosya, 'w') \n",
        "f.write(adSoyad + \" I \" + eposta + \"\\n\") \n",
        "f.close()\n",
        "\n",
        "dosya = \"/content/drive/MyDrive/Colab Notebooks/Adres.txt\"\n",
        "\n",
        "f = open(dosya, \"r\") \n",
        "\n",
        "for line in f.readlines():\n",
        "    print(line)\n",
        "\n",
        "f.close()"
      ],
      "execution_count": 2,
      "outputs": [
        {
          "output_type": "stream",
          "text": [
            "Adınızı Soyadınızı GirinizEmircan Aldemir\n",
            "E-posta adresinizi girinize_mir_can12@hotmail.com\n",
            "Emircan Aldemir I e_mir_can12@hotmail.com\n",
            "\n"
          ],
          "name": "stdout"
        }
      ]
    }
  ]
}